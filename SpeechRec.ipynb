{
 "cells": [
  {
   "cell_type": "code",
   "execution_count": 1,
   "metadata": {
    "scrolled": true
   },
   "outputs": [
    {
     "name": "stdout",
     "output_type": "stream",
     "text": [
      "Requirement already satisfied: SpeechRecognition in /Users/mackenziemitchell/anaconda3/lib/python3.7/site-packages (3.8.1)\r\n"
     ]
    }
   ],
   "source": [
    "!pip install SpeechRecognition"
   ]
  },
  {
   "cell_type": "code",
   "execution_count": 2,
   "metadata": {},
   "outputs": [
    {
     "name": "stdout",
     "output_type": "stream",
     "text": [
      "Requirement already satisfied: googletrans in /Users/mackenziemitchell/anaconda3/lib/python3.7/site-packages (2.4.0)\n",
      "Requirement already satisfied: requests in /Users/mackenziemitchell/anaconda3/lib/python3.7/site-packages (from googletrans) (2.21.0)\n",
      "Requirement already satisfied: certifi>=2017.4.17 in /Users/mackenziemitchell/anaconda3/lib/python3.7/site-packages (from requests->googletrans) (2019.3.9)\n",
      "Requirement already satisfied: urllib3<1.25,>=1.21.1 in /Users/mackenziemitchell/anaconda3/lib/python3.7/site-packages (from requests->googletrans) (1.24.1)\n",
      "Requirement already satisfied: idna<2.9,>=2.5 in /Users/mackenziemitchell/anaconda3/lib/python3.7/site-packages (from requests->googletrans) (2.8)\n",
      "Requirement already satisfied: chardet<3.1.0,>=3.0.2 in /Users/mackenziemitchell/anaconda3/lib/python3.7/site-packages (from requests->googletrans) (3.0.4)\n"
     ]
    }
   ],
   "source": [
    "!pip install googletrans"
   ]
  },
  {
   "cell_type": "code",
   "execution_count": 3,
   "metadata": {},
   "outputs": [],
   "source": [
    "from googletrans import Translator\n",
    "t=Translator()"
   ]
  },
  {
   "cell_type": "code",
   "execution_count": 4,
   "metadata": {},
   "outputs": [],
   "source": [
    "# !pip install gTTS"
   ]
  },
  {
   "cell_type": "code",
   "execution_count": 5,
   "metadata": {},
   "outputs": [],
   "source": [
    "from gtts import gTTS \n",
    "import os"
   ]
  },
  {
   "cell_type": "code",
   "execution_count": 6,
   "metadata": {},
   "outputs": [],
   "source": [
    "# import porcupine"
   ]
  },
  {
   "cell_type": "code",
   "execution_count": 7,
   "metadata": {},
   "outputs": [
    {
     "name": "stdout",
     "output_type": "stream",
     "text": [
      "\u001b[32m==>\u001b[0m \u001b[1mReinstalling \u001b[32mportaudio\u001b[39m \u001b[0m\n",
      "\u001b[34m==>\u001b[0m \u001b[1mDownloading https://homebrew.bintray.com/bottles/portaudio-19.6.0.mojave.bot\u001b[0m\n",
      "Already downloaded: /Users/mackenziemitchell/Library/Caches/Homebrew/downloads/fcec114fb3bcd4d36e80451544371de751b76af689f0d52dcf260954f3a91784--portaudio-19.6.0.mojave.bottle.tar.gz\n",
      "\u001b[34m==>\u001b[0m \u001b[1mPouring portaudio-19.6.0.mojave.bottle.tar.gz\u001b[0m\n",
      "🍺  /usr/local/Cellar/portaudio/19.6.0: 33 files, 452.4KB\n"
     ]
    }
   ],
   "source": [
    "# !brew reinstall portaudio"
   ]
  },
  {
   "cell_type": "code",
   "execution_count": 8,
   "metadata": {},
   "outputs": [
    {
     "name": "stdout",
     "output_type": "stream",
     "text": [
      "Updating Homebrew...\n",
      "\u001b[34m==>\u001b[0m \u001b[1mAuto-updated Homebrew!\u001b[0m\n",
      "Updated 1 tap (homebrew/core).\n",
      "\u001b[34m==>\u001b[0m \u001b[1mUpdated Formulae\u001b[0m\n",
      "armadillo           fmt                 gwyddion            minizip2\n",
      "bash-completion@2   fwup                helm                nspr\n",
      "dav1d               git-delta           kotlin              partio\n",
      "ffsend              gmic                libosinfo\n",
      "\n",
      "\u001b[33mWarning:\u001b[0m portaudio 19.6.0 is already installed and up-to-date\n",
      "To reinstall 19.6.0, run `brew reinstall portaudio`\n",
      "Requirement already satisfied: pyaudio in /Users/mackenziemitchell/anaconda3/lib/python3.7/site-packages (0.2.11)\n"
     ]
    }
   ],
   "source": [
    "!brew install portaudio\n",
    "!pip install pyaudio"
   ]
  },
  {
   "cell_type": "code",
   "execution_count": 9,
   "metadata": {
    "scrolled": true
   },
   "outputs": [],
   "source": [
    "# !pip install playsound"
   ]
  },
  {
   "cell_type": "code",
   "execution_count": 10,
   "metadata": {},
   "outputs": [],
   "source": [
    "from playsound import playsound"
   ]
  },
  {
   "cell_type": "code",
   "execution_count": 11,
   "metadata": {},
   "outputs": [],
   "source": [
    "import speech_recognition as sr\n",
    "import pyaudio"
   ]
  },
  {
   "cell_type": "code",
   "execution_count": 23,
   "metadata": {},
   "outputs": [],
   "source": [
    "r=sr.Recognizer()"
   ]
  },
  {
   "cell_type": "code",
   "execution_count": 13,
   "metadata": {},
   "outputs": [],
   "source": [
    "# def callback(recognizer, audio):\n",
    "#     # received audio data, now we'll recognize it using Google Speech Recognition\n",
    "#     try:\n",
    "#         # for testing purposes, we're just using the default API key\n",
    "#         # to use another API key, use `r.recognize_google(audio, key=\"GOOGLE_SPEECH_RECOGNITION_API_KEY\")`\n",
    "#         # instead of `r.recognize_google(audio)`\n",
    "#         print(\"Google Speech Recognition thinks you said \" + r.recognize_google(audio))\n",
    "#         with sr.Microphone() as source:\n",
    "#             print(\"Say Something\")\n",
    "#             r.adjust_for_ambient_noise(source)\n",
    "#             audio=r.listen(source)\n",
    "#         try:\n",
    "#             text=r.recognize_google(audio)\n",
    "#             print(\"You said \", text)\n",
    "\n",
    "#         except sr.UnknownValueError: \n",
    "#             print(\"Google Speech Recognition could not understand audio\")\n",
    "\n",
    "#         except sr.RequestError as e: \n",
    "#             print(\"Could not request results from Google Speech Recognition service; {}\".format(e))\n",
    "#     except sr.UnknownValueError:\n",
    "#         print(\"Google Speech Recognition could not understand audio\")\n",
    "#     except sr.RequestError as e:\n",
    "#         print(\"Could not request results from Google Speech Recognition service; {0}\".format(e))"
   ]
  },
  {
   "cell_type": "code",
   "execution_count": 14,
   "metadata": {},
   "outputs": [],
   "source": [
    "lang_dict={'afrikaans':'af','albanian':'sq','arabic':'ar','azerbaijani':'az','basque':'eu','bengali':'bn','belarusian':'be',\n",
    "           'bulgarian':'bg','catalan':'ca','chinese':'zh-CN','croatian':'hr','czech':'cs','danish':'da',\n",
    "           'dutch':'nl','english':'en','esperanto':'eo','estonian':'et','filipino':'tl','finnish':'fi','french':'fr',\n",
    "            'galician':'gl','georgian':'ka','german':'de','greek':'el','gujarati':'gu', 'haitian creole':'ht',\n",
    "            'hebrew':'iw','hindi':'hi','hungarian':'hu','icelandic':'is','indonesian':'id','irish':'ga','italian':'it',\n",
    "            'japanese':'ja','kannada':'kn','korean':'ko','latin':'la','latvian':'lv', 'lithuanian':'lt', 'macedonian':'mk',\n",
    "            'malay':'ms','maltese':'mt','norwegian':'no','persian':'fa','polish':'pl','portuguese':'pt','romanian':'ro',\n",
    "            'russian':'ru','serbian':'sr','slovak':'sk','slovenian':'sl','spanish':'es','sqahili':'sw','swedish':'sv',\n",
    "            'tamil':'ta','telugu':'te','thai':'th','turkish':'tr','ukrainian':'uk','urdu':'ur','vietnamese':'vi', 'welsh':'cy',\n",
    "            'yiddish':'yi'}\n"
   ]
  },
  {
   "cell_type": "code",
   "execution_count": 24,
   "metadata": {},
   "outputs": [
    {
     "name": "stdout",
     "output_type": "stream",
     "text": [
      "Say something!\n",
      "Check: hello\n",
      "User: hello\n"
     ]
    }
   ],
   "source": [
    "r = sr.Recognizer()   #Speech recognition\n",
    "with sr.Microphone() as source:\n",
    "    print(\"Say something!\")\n",
    "    audio = r.listen(source)\n",
    "    message = r.recognize_google(audio)\n",
    "    print(\"Check: \"+message)\n",
    "try:\n",
    "    print(\"User: \" + r.recognize_google(audio))\n",
    "except sr.UnknownValueError:\n",
    "    print(\"Google Speech Recognition could not understand audio\")\n",
    "except sr.RequestError as e:\n",
    "    print(\"Could not request results from Google Speech Recognition service;\")"
   ]
  },
  {
   "cell_type": "code",
   "execution_count": 48,
   "metadata": {},
   "outputs": [
    {
     "data": {
      "text/plain": [
       "<speech_recognition.Microphone at 0x7fa730428080>"
      ]
     },
     "execution_count": 48,
     "metadata": {},
     "output_type": "execute_result"
    }
   ],
   "source": [
    "sr.Microphone()"
   ]
  },
  {
   "cell_type": "code",
   "execution_count": 25,
   "metadata": {
    "scrolled": true
   },
   "outputs": [
    {
     "name": "stdout",
     "output_type": "stream",
     "text": [
      "What language would you like to translate to? lowercase only: spanish\n",
      "Say Something\n",
      "you said: hello\n",
      "translation: Hola\n"
     ]
    }
   ],
   "source": [
    "# transto=0\n",
    "# kind=0\n",
    "lang=input('What language would you like to translate to? lowercase only: ')\n",
    "transto=lang_dict[lang]\n",
    "with sr.Microphone() as source:\n",
    "    print('Say Something')\n",
    "    r.adjust_for_ambient_noise(source)\n",
    "    audio = r.listen(source)\n",
    "try:\n",
    "    text=r.recognize_google(audio)\n",
    "    print('you said: {}'.format(text))\n",
    "except:\n",
    "    print('translation failed')\n",
    "    \n",
    "translation=t.translate(text, dest=transto)\n",
    "txt=translation.text\n",
    "print('translation: {}'.format(txt))\n",
    "# tts=gTTS(text=txt,lang=transto,slow=False)\n",
    "# tts.save(\"translation{}.mp3\".format(lang))\n",
    "# os.system(\"mpg321 translation{}.mp3\".format(lang))\n",
    "# playsound('translationDutch.mp3')"
   ]
  }
 ],
 "metadata": {
  "kernelspec": {
   "display_name": "Python 3",
   "language": "python",
   "name": "python3"
  },
  "language_info": {
   "codemirror_mode": {
    "name": "ipython",
    "version": 3
   },
   "file_extension": ".py",
   "mimetype": "text/x-python",
   "name": "python",
   "nbconvert_exporter": "python",
   "pygments_lexer": "ipython3",
   "version": "3.7.3"
  }
 },
 "nbformat": 4,
 "nbformat_minor": 2
}
