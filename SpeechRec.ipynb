{
 "cells": [
  {
   "cell_type": "code",
   "execution_count": 1,
   "metadata": {
    "scrolled": true
   },
   "outputs": [
    {
     "name": "stdout",
     "output_type": "stream",
     "text": [
      "Requirement already satisfied: SpeechRecognition in /Users/mackenziemitchell/anaconda3/lib/python3.7/site-packages (3.8.1)\r\n"
     ]
    }
   ],
   "source": [
    "!pip install SpeechRecognition"
   ]
  },
  {
   "cell_type": "code",
   "execution_count": 2,
   "metadata": {},
   "outputs": [
    {
     "name": "stdout",
     "output_type": "stream",
     "text": [
      "Requirement already satisfied: googletrans in /Users/mackenziemitchell/anaconda3/lib/python3.7/site-packages (2.4.0)\r\n",
      "Requirement already satisfied: requests in /Users/mackenziemitchell/anaconda3/lib/python3.7/site-packages (from googletrans) (2.21.0)\r\n",
      "Requirement already satisfied: certifi>=2017.4.17 in /Users/mackenziemitchell/anaconda3/lib/python3.7/site-packages (from requests->googletrans) (2019.3.9)\r\n",
      "Requirement already satisfied: chardet<3.1.0,>=3.0.2 in /Users/mackenziemitchell/anaconda3/lib/python3.7/site-packages (from requests->googletrans) (3.0.4)\r\n",
      "Requirement already satisfied: idna<2.9,>=2.5 in /Users/mackenziemitchell/anaconda3/lib/python3.7/site-packages (from requests->googletrans) (2.8)\r\n",
      "Requirement already satisfied: urllib3<1.25,>=1.21.1 in /Users/mackenziemitchell/anaconda3/lib/python3.7/site-packages (from requests->googletrans) (1.24.1)\r\n"
     ]
    }
   ],
   "source": [
    "!pip install googletrans"
   ]
  },
  {
   "cell_type": "code",
   "execution_count": 3,
   "metadata": {},
   "outputs": [],
   "source": [
    "from googletrans import Translator\n",
    "t=Translator()"
   ]
  },
  {
   "cell_type": "code",
   "execution_count": 4,
   "metadata": {},
   "outputs": [],
   "source": [
    "# !pip install gTTS"
   ]
  },
  {
   "cell_type": "code",
   "execution_count": 5,
   "metadata": {},
   "outputs": [],
   "source": [
    "from gtts import gTTS \n",
    "import os"
   ]
  },
  {
   "cell_type": "code",
   "execution_count": 6,
   "metadata": {},
   "outputs": [],
   "source": [
    "# import porcupine"
   ]
  },
  {
   "cell_type": "code",
   "execution_count": 7,
   "metadata": {},
   "outputs": [
    {
     "name": "stdout",
     "output_type": "stream",
     "text": [
      "Updating Homebrew...\n",
      "\u001b[34m==>\u001b[0m \u001b[1mAuto-updated Homebrew!\u001b[0m\n",
      "Updated 1 tap (homebrew/core).\n",
      "\u001b[34m==>\u001b[0m \u001b[1mNew Formulae\u001b[0m\n",
      "cargo-c             gnirehtet           monolith            rav1e\n",
      "cartridge-cli       imgproxy            mysql-client@5.7    samurai\n",
      "devdash             kind                onnxruntime         sentencepiece\n",
      "diesel              krew                php@7.3             tio\n",
      "dune                liblouis            postgresql@11       vale\n",
      "gimme-aws-creds     libtorch            pympress            xlearn\n",
      "\u001b[34m==>\u001b[0m \u001b[1mUpdated Formulae\u001b[0m\n",
      "\u001b[1mtmux \u001b[32m✔\u001b[0m\u001b[0m                                   maxwell\n",
      "abcl                                     memcached\n",
      "abcmidi                                  menhir\n",
      "abyss                                    mercurial\n",
      "ace                                      mesa\n",
      "alexjs                                   metricbeat\n",
      "amazon-ecs-cli                           micronaut\n",
      "ammonite-repl                            mlt\n",
      "angular-cli                              mockserver\n",
      "ansible                                  monero\n",
      "ansible-lint                             monetdb\n",
      "ansiweather                              mono-libgdiplus\n",
      "antlr4-cpp-runtime                       mosh\n",
      "apache-arrow                             mosquitto\n",
      "apache-arrow-glib                        mpich\n",
      "apktool                                  mutt\n",
      "arangodb                                 mydumper\n",
      "arm-linux-gnueabihf-binutils             mysql++\n",
      "arp-scan                                 mysql-client\n",
      "audacious                                mysql-connector-c++\n",
      "auditbeat                                mysql-connector-c++@1.1\n",
      "aws-cdk                                  mytop\n",
      "aws-sdk-cpp                              n\n",
      "awscli                                   nats-server\n",
      "awsume                                   navi\n",
      "azure-cli                                neomutt\n",
      "babel                                    netdata\n",
      "babeld                                   newman\n",
      "ballerina                                nghttp2\n",
      "basex                                    nifi-registry\n",
      "batik                                    nnn\n",
      "bazel                                    node\n",
      "bee                                      node-build\n",
      "berglas                                  node@12\n",
      "bind                                     node_exporter\n",
      "binutils                                 now-cli\n",
      "bit                                      nsd\n",
      "bitcoin                                  nss\n",
      "blastem                                  ntopng\n",
      "bluepill                                 numpy\n",
      "bnd                                      nushell\n",
      "borgmatic                                octomap\n",
      "breezy                                   omega\n",
      "brew-php-switcher                        oniguruma\n",
      "broot                                    onioncat\n",
      "byteman                                  onscripter\n",
      "cabal-install                            opa\n",
      "caffe                                    open-scene-graph\n",
      "calceph                                  open-zwave\n",
      "cash-cli                                 openal-soft\n",
      "ccache                                   openapi-generator\n",
      "cfn-lint                                 opencascade\n",
      "charm-tools                              openfortivpn\n",
      "cheat                                    orc\n",
      "checkstyle                               orc-tools\n",
      "citus                                    ortp\n",
      "ckan                                     osc\n",
      "clac                                     osmium-tool\n",
      "clamav                                   osquery\n",
      "cling                                    pachi\n",
      "cln                                      paket\n",
      "clojure                                  pandoc\n",
      "cminpack                                 pandoc-citeproc\n",
      "cointop                                  pandoc-crossref\n",
      "comby                                    paps\n",
      "conan                                    parallel\n",
      "consul                                   passenger\n",
      "contentful-cli                           pcre2\n",
      "convox                                   pdns\n",
      "coq                                      percona-toolkit\n",
      "cstore_fdw                               percona-xtrabackup\n",
      "csvq                                     perl-build\n",
      "dafny                                    petsc\n",
      "darksky-weather                          petsc-complex\n",
      "dartsim                                  pgbouncer\n",
      "dcos-cli                                 pgloader\n",
      "deno                                     pgpool-ii\n",
      "devspace                                 pgroonga\n",
      "diamond                                  pgrouting\n",
      "django-completion                        php\n",
      "dnscrypt-proxy                           php-code-sniffer\n",
      "dnstwist                                 php-cs-fixer\n",
      "dnsviz                                   php@7.2\n",
      "docker-compose                           phpmyadmin\n",
      "docker-compose-completion                phpstan\n",
      "doctl                                    pianobar\n",
      "drafter                                  pianod\n",
      "duck                                     picard-tools\n",
      "dvc                                      pmd\n",
      "dxpy                                     pnpm\n",
      "eccodes                                  postgis\n",
      "elasticsearch                            postgresql\n",
      "elektra                                  postgresql@10\n",
      "elm                                      postgresql@9.4\n",
      "embulk                                   postgresql@9.5\n",
      "erlang                                   postgresql@9.6\n",
      "erlang@20                                prestosql\n",
      "eslint                                   procs\n",
      "ethereum                                 proftpd\n",
      "evince                                   protobuf\n",
      "exploitdb                                protobuf-c\n",
      "faas-cli                                 pspg\n",
      "fabio                                    psqlodbc\n",
      "fauna-shell                              pulumi\n",
      "ffsend                                   purescript\n",
      "file-roller                              pushpin\n",
      "firebase-cli                             pylint\n",
      "flow                                     pypy\n",
      "fluxctl                                  pypy3\n",
      "fmt                                      qalculate-gtk\n",
      "folly                                    qemu\n",
      "fonttools                                qpdf\n",
      "fork-cleaner                             qstat\n",
      "freeradius-server                        quantlib\n",
      "frpc                                     rabbitmq\n",
      "frps                                     rabbitmq-c\n",
      "fs-uae                                   rargs\n",
      "futhark                                  rbspy\n",
      "fwup                                     rclone\n",
      "gatsby-cli                               re2\n",
      "gcc                                      redis\n",
      "gcc@6                                    remind\n",
      "gcc@7                                    reminiscence\n",
      "gcc@8                                    repo\n",
      "gedit                                    restic\n",
      "ghq                                      rex\n",
      "git                                      rke\n",
      "git-cola                                 rom-tools\n",
      "git-revise                               rpm\n",
      "gitlab-runner                            ruby-build\n",
      "gitleaks                                 salt\n",
      "gjs                                      sbcl\n",
      "glib                                     sbt\n",
      "glooctl                                  scalapack\n",
      "glslang                                  scipy\n",
      "gmsh                                     scrcpy\n",
      "gnupg                                    serverless\n",
      "gnuplot                                  shairport-sync\n",
      "gnutls                                   shogun\n",
      "goofys                                   simple-scan\n",
      "google-authenticator-libpam              simutrans\n",
      "googler                                  singular\n",
      "goreleaser                               skaffold\n",
      "goreman                                  skafos\n",
      "gource                                   smali\n",
      "gradle                                   sn0int\n",
      "grafana                                  snapcraft\n",
      "grakn                                    solr\n",
      "graph-tool                               sops\n",
      "groonga                                  sqlmap\n",
      "grpc                                     ssh-audit\n",
      "gst-editing-services                     ssh-copy-id\n",
      "gst-libav                                starship\n",
      "gst-plugins-bad                          stellar-core\n",
      "gst-plugins-base                         streamlink\n",
      "gst-plugins-good                         stress-ng\n",
      "gst-plugins-ugly                         stunnel\n",
      "gst-python                               swagger-codegen\n",
      "gst-rtsp-server                          swagger-codegen@2\n",
      "gst-validate                             swiftformat\n",
      "gstreamer                                swiftlint\n",
      "gwyddion                                 syncthing\n",
      "hapi-fhir-cli                            synscan\n",
      "haproxy                                  sysbench\n",
      "haxe                                     tcsh\n",
      "helmfile                                 tektoncd-cli\n",
      "hledger                                  telegraf\n",
      "hugo                                     teleport\n",
      "hydra                                    temporal_tables\n",
      "hyperfine                                tepl\n",
      "i386-elf-binutils                        termtosvg\n",
      "icecream                                 terraform\n",
      "imagemagick                              terraformer\n",
      "imagemagick@6                            terragrunt\n",
      "imapsync                                 terrahub\n",
      "imlib2                                   thrift\n",
      "include-what-you-use                     thrift@0.9\n",
      "infer                                    tig\n",
      "inlets                                   tiger-vnc\n",
      "innotop                                  tile38\n",
      "ipopt                                    timewarrior\n",
      "jailkit                                  tintin\n",
      "janet                                    tmate\n",
      "jenkins                                  tmuxinator\n",
      "jenkins-lts                              todoman\n",
      "jetty                                    tomcat\n",
      "jfrog-cli-go                             tomcat@8\n",
      "jhipster                                 topgrade\n",
      "jmeter                                   tox\n",
      "joplin                                   traefik\n",
      "juju                                     transmission-cli\n",
      "jupyterlab                               ttyd\n",
      "just                                     tunnel\n",
      "kepubify                                 typescript\n",
      "kitchen-sync                             unbound\n",
      "kops                                     uncrustify\n",
      "kotlin                                   ungit\n",
      "ktlint                                   unrar\n",
      "kube-aws                                 urbit\n",
      "kubebuilder                              urh\n",
      "kubecfg                                  uwsgi\n",
      "kubeseal                                 v8\n",
      "kustomize                                vala\n",
      "kyma-cli                                 verilator\n",
      "lazygit                                  vert.x\n",
      "ledger                                   vice\n",
      "lerna                                    vim\n",
      "libcoap                                  vips\n",
      "libepoxy                                 virgil\n",
      "libftdi                                  virtuoso\n",
      "libgraphqlparser                         vit\n",
      "libgusb                                  vte3\n",
      "libidn2                                  vulkan-headers\n",
      "libimobiledevice                         wal2json\n",
      "libosmium                                watchexec\n",
      "libphonenumber                           wget\n",
      "libpq                                    whois\n",
      "libpqxx                                  wiiuse\n",
      "libpulsar                                wiki\n",
      "libqalculate                             wireguard-tools\n",
      "librdkafka                               wireshark\n",
      "librealsense                             wtf\n",
      "librsvg                                  wxmaxima\n",
      "libsodium                                wxpython\n",
      "libsoup                                  xapian\n",
      "libtasn1                                 xcodegen\n",
      "libtorrent-rasterbar                     xvid\n",
      "libtrace                                 yadm\n",
      "libusbmuxd                               yaml-cpp\n",
      "libxlsxwriter                            yapf\n",
      "libzdb                                   yarn\n",
      "lightgbm                                 yelp-tools\n",
      "lilv                                     youtube-dl\n",
      "lmod                                     z3\n",
      "logstash                                 zabbix\n",
      "logtalk                                  zbackup\n",
      "mame                                     zopfli\n",
      "manticoresearch                          zrepl\n",
      "math-comp                                zstd\n",
      "maven\n",
      "\u001b[34m==>\u001b[0m \u001b[1mRenamed Formulae\u001b[0m\n",
      "bro -> zeek\n",
      "\u001b[34m==>\u001b[0m \u001b[1mDeleted Formulae\u001b[0m\n",
      "ansible@1.9                grib-api                   php@7.1\n",
      "ansible@2.0                mysql-connector-c          ruby@2.0\n",
      "erlang@19                  openssl                    shocco\n"
     ]
    },
    {
     "name": "stdout",
     "output_type": "stream",
     "text": [
      "\n",
      "\u001b[33mWarning:\u001b[0m portaudio 19.6.0 is already installed and up-to-date\n",
      "To reinstall 19.6.0, run `brew reinstall portaudio`\n",
      "Requirement already satisfied: pyaudio in /Users/mackenziemitchell/anaconda3/lib/python3.7/site-packages (0.2.11)\n"
     ]
    }
   ],
   "source": [
    "!brew install portaudio\n",
    "!pip install pyaudio"
   ]
  },
  {
   "cell_type": "code",
   "execution_count": 8,
   "metadata": {
    "scrolled": true
   },
   "outputs": [
    {
     "name": "stdout",
     "output_type": "stream",
     "text": [
      "Requirement already satisfied: playsound in /Users/mackenziemitchell/anaconda3/lib/python3.7/site-packages (1.2.2)\r\n"
     ]
    }
   ],
   "source": [
    "!pip install playsound"
   ]
  },
  {
   "cell_type": "code",
   "execution_count": 9,
   "metadata": {},
   "outputs": [],
   "source": [
    "from playsound import playsound"
   ]
  },
  {
   "cell_type": "code",
   "execution_count": 10,
   "metadata": {},
   "outputs": [],
   "source": [
    "import speech_recognition as sr\n",
    "import pyaudio"
   ]
  },
  {
   "cell_type": "code",
   "execution_count": 11,
   "metadata": {},
   "outputs": [],
   "source": [
    "r=sr.Recognizer()"
   ]
  },
  {
   "cell_type": "code",
   "execution_count": null,
   "metadata": {},
   "outputs": [],
   "source": [
    "# def callback(recognizer, audio):\n",
    "#     # received audio data, now we'll recognize it using Google Speech Recognition\n",
    "#     try:\n",
    "#         # for testing purposes, we're just using the default API key\n",
    "#         # to use another API key, use `r.recognize_google(audio, key=\"GOOGLE_SPEECH_RECOGNITION_API_KEY\")`\n",
    "#         # instead of `r.recognize_google(audio)`\n",
    "#         print(\"Google Speech Recognition thinks you said \" + r.recognize_google(audio))\n",
    "#         with sr.Microphone() as source:\n",
    "#             print(\"Say Something\")\n",
    "#             r.adjust_for_ambient_noise(source)\n",
    "#             audio=r.listen(source)\n",
    "#         try:\n",
    "#             text=r.recognize_google(audio)\n",
    "#             print(\"You said \", text)\n",
    "\n",
    "#         except sr.UnknownValueError: \n",
    "#             print(\"Google Speech Recognition could not understand audio\")\n",
    "\n",
    "#         except sr.RequestError as e: \n",
    "#             print(\"Could not request results from Google Speech Recognition service; {}\".format(e))\n",
    "#     except sr.UnknownValueError:\n",
    "#         print(\"Google Speech Recognition could not understand audio\")\n",
    "#     except sr.RequestError as e:\n",
    "#         print(\"Could not request results from Google Speech Recognition service; {0}\".format(e))"
   ]
  },
  {
   "cell_type": "code",
   "execution_count": 13,
   "metadata": {
    "scrolled": true
   },
   "outputs": [
    {
     "name": "stdout",
     "output_type": "stream",
     "text": [
      "What language would you like to translate to? lowercase only: spanish\n",
      "Say Something\n",
      "you said: hi my name is Mackenzie\n"
     ]
    },
    {
     "ename": "AttributeError",
     "evalue": "'int' object has no attribute 'lower'",
     "output_type": "error",
     "traceback": [
      "\u001b[0;31m---------------------------------------------------------------------------\u001b[0m",
      "\u001b[0;31mAttributeError\u001b[0m                            Traceback (most recent call last)",
      "\u001b[0;32m<ipython-input-13-9149f8f05d2e>\u001b[0m in \u001b[0;36m<module>\u001b[0;34m\u001b[0m\n\u001b[1;32m     53\u001b[0m     \u001b[0mprint\u001b[0m\u001b[0;34m(\u001b[0m\u001b[0;34m'translation failed'\u001b[0m\u001b[0;34m)\u001b[0m\u001b[0;34m\u001b[0m\u001b[0;34m\u001b[0m\u001b[0m\n\u001b[1;32m     54\u001b[0m \u001b[0;34m\u001b[0m\u001b[0m\n\u001b[0;32m---> 55\u001b[0;31m \u001b[0mtranslation\u001b[0m\u001b[0;34m=\u001b[0m\u001b[0mt\u001b[0m\u001b[0;34m.\u001b[0m\u001b[0mtranslate\u001b[0m\u001b[0;34m(\u001b[0m\u001b[0mtext\u001b[0m\u001b[0;34m,\u001b[0m \u001b[0mdest\u001b[0m\u001b[0;34m=\u001b[0m\u001b[0mtransto\u001b[0m\u001b[0;34m)\u001b[0m\u001b[0;34m\u001b[0m\u001b[0;34m\u001b[0m\u001b[0m\n\u001b[0m\u001b[1;32m     56\u001b[0m \u001b[0mtxt\u001b[0m\u001b[0;34m=\u001b[0m\u001b[0mtranslation\u001b[0m\u001b[0;34m.\u001b[0m\u001b[0mtext\u001b[0m\u001b[0;34m\u001b[0m\u001b[0;34m\u001b[0m\u001b[0m\n\u001b[1;32m     57\u001b[0m \u001b[0mprint\u001b[0m\u001b[0;34m(\u001b[0m\u001b[0;34m'translation: {}'\u001b[0m\u001b[0;34m.\u001b[0m\u001b[0mformat\u001b[0m\u001b[0;34m(\u001b[0m\u001b[0mtxt\u001b[0m\u001b[0;34m)\u001b[0m\u001b[0;34m)\u001b[0m\u001b[0;34m\u001b[0m\u001b[0;34m\u001b[0m\u001b[0m\n",
      "\u001b[0;32m~/anaconda3/lib/python3.7/site-packages/googletrans/client.py\u001b[0m in \u001b[0;36mtranslate\u001b[0;34m(self, text, dest, src)\u001b[0m\n\u001b[1;32m    143\u001b[0m             \u001b[0mthe\u001b[0m \u001b[0mlazy\u001b[0m \u001b[0mdog\u001b[0m  \u001b[0;34m->\u001b[0m  \u001b[0m게으른\u001b[0m \u001b[0m개\u001b[0m\u001b[0;34m\u001b[0m\u001b[0;34m\u001b[0m\u001b[0m\n\u001b[1;32m    144\u001b[0m         \"\"\"\n\u001b[0;32m--> 145\u001b[0;31m         \u001b[0mdest\u001b[0m \u001b[0;34m=\u001b[0m \u001b[0mdest\u001b[0m\u001b[0;34m.\u001b[0m\u001b[0mlower\u001b[0m\u001b[0;34m(\u001b[0m\u001b[0;34m)\u001b[0m\u001b[0;34m.\u001b[0m\u001b[0msplit\u001b[0m\u001b[0;34m(\u001b[0m\u001b[0;34m'_'\u001b[0m\u001b[0;34m,\u001b[0m \u001b[0;36m1\u001b[0m\u001b[0;34m)\u001b[0m\u001b[0;34m[\u001b[0m\u001b[0;36m0\u001b[0m\u001b[0;34m]\u001b[0m\u001b[0;34m\u001b[0m\u001b[0;34m\u001b[0m\u001b[0m\n\u001b[0m\u001b[1;32m    146\u001b[0m         \u001b[0msrc\u001b[0m \u001b[0;34m=\u001b[0m \u001b[0msrc\u001b[0m\u001b[0;34m.\u001b[0m\u001b[0mlower\u001b[0m\u001b[0;34m(\u001b[0m\u001b[0;34m)\u001b[0m\u001b[0;34m.\u001b[0m\u001b[0msplit\u001b[0m\u001b[0;34m(\u001b[0m\u001b[0;34m'_'\u001b[0m\u001b[0;34m,\u001b[0m \u001b[0;36m1\u001b[0m\u001b[0;34m)\u001b[0m\u001b[0;34m[\u001b[0m\u001b[0;36m0\u001b[0m\u001b[0;34m]\u001b[0m\u001b[0;34m\u001b[0m\u001b[0;34m\u001b[0m\u001b[0m\n\u001b[1;32m    147\u001b[0m \u001b[0;34m\u001b[0m\u001b[0m\n",
      "\u001b[0;31mAttributeError\u001b[0m: 'int' object has no attribute 'lower'"
     ]
    }
   ],
   "source": [
    "transto=0\n",
    "kind=0\n",
    "lang=input('What language would you like to translate to? lowercase only: ')\n",
    "if lang=='afrikaans':\n",
    "    transto='af'\n",
    "elif lang=='albanian':\n",
    "    transto='sq'\n",
    "elif lang=='arabic':\n",
    "    transto='ar'\n",
    "elif lang=='azerbaijani':\n",
    "    transto='sq'\n",
    "elif lang=='basque':\n",
    "    transto='eu'\n",
    "elif lang=='bengali':\n",
    "    transto='bn'\n",
    "elif lang=='belarusian':\n",
    "    transto='be'\n",
    "elif lang=='bulgarian':\n",
    "    transto='bg'\n",
    "elif lang=='catalan':\n",
    "    transto='ca'\n",
    "elif lang=='chinese':\n",
    "    kind=input(\"Traditional or Simplified? \")\n",
    "    if kind=='traditional':\n",
    "        transto='zh-TW'\n",
    "    else:\n",
    "        transto='zh-CN'\n",
    "elif lang=='croatian':\n",
    "    transto='hr'\n",
    "elif lang=='czech':\n",
    "    transto='cs'\n",
    "elif lang=='danish':\n",
    "    transto='da'\n",
    "elif lang=='dutch':\n",
    "    transto='nl'\n",
    "elif lang=='english':\n",
    "    transto='en'\n",
    "elif lang=='esperanto':\n",
    "    transto='eo'\n",
    "elif lang=='estonian':\n",
    "    transto='et'\n",
    "with sr.Microphone() as source:\n",
    "    print('Say Something')\n",
    "    r.adjust_for_ambient_noise(source)\n",
    "    try:\n",
    "        audio = r.listen(source)\n",
    "    except:\n",
    "        print('I could not hear you')\n",
    "try:\n",
    "    text=r.recognize_google(audio)\n",
    "    print('you said: {}'.format(text))\n",
    "except:\n",
    "    print('translation failed')\n",
    "    \n",
    "translation=t.translate(text, dest=transto)\n",
    "txt=translation.text\n",
    "print('translation: {}'.format(txt))\n",
    "tts=gTTS(text=txt,lang=transto,slow=False)\n",
    "tts.save(\"translation{}.mp3\".format(lang))\n",
    "os.system(\"mpg321 translation{}.mp3\".format(lang))\n",
    "# playsound('translationDutch.mp3')\n",
    "# translation.text.save('translationn.mp3')\n",
    "# os.system('mpg321 translationn.mp3')\n",
    "# translation.text"
   ]
  },
  {
   "cell_type": "code",
   "execution_count": null,
   "metadata": {},
   "outputs": [],
   "source": [
    "# with sr.Microphone() as source:\n",
    "#     print(\"Say Something\")\n",
    "#     r.adjust_for_ambient_noise(source)\n",
    "#     audio=r.listen(source)\n",
    "# try:\n",
    "#     text=r.recognize_google(audio, language= 'fr-FR')\n",
    "#     print(\"You said \", text)\n",
    "\n",
    "# except sr.UnknownValueError: \n",
    "#     print(\"Google Speech Recognition could not understand audio\")\n",
    "\n",
    "# except sr.RequestError as e: \n",
    "#     print(\"Could not request results from Google Speech Recognition service; {}\".format(e))\n"
   ]
  },
  {
   "cell_type": "code",
   "execution_count": null,
   "metadata": {},
   "outputs": [],
   "source": [
    "# with sr.Microphone() as source:\n",
    "#     print('Say Something')\n",
    "#     r.adjust_for_ambient_noise(source)\n",
    "#     audio = r.listen(source)\n",
    "# try:\n",
    "#     text=append(r.recognize_google(audio))\n",
    "#     print('you said: {}'.format(text))\n",
    "# except:\n",
    "#     print('translation failed')  \n",
    "# if \"sit\" in text:\n",
    "#     with sr.Microphone() as source:\n",
    "#         print('Say Something')\n",
    "#         r.adjust_for_ambient_noise(source)\n",
    "#         audio = r.listen(source)\n",
    "#     try:\n",
    "#         text=r.recognize_google(audio)\n",
    "#         print('you said: {}'.format(text))\n",
    "#     except:\n",
    "#         print('translation failed') "
   ]
  },
  {
   "cell_type": "code",
   "execution_count": null,
   "metadata": {},
   "outputs": [],
   "source": [
    "# import time"
   ]
  },
  {
   "cell_type": "code",
   "execution_count": null,
   "metadata": {
    "scrolled": false
   },
   "outputs": [],
   "source": [
    "# !pip install scikit-surgeryspeech"
   ]
  },
  {
   "cell_type": "code",
   "execution_count": null,
   "metadata": {},
   "outputs": [],
   "source": [
    "# !pip install scikit-surgery"
   ]
  },
  {
   "cell_type": "code",
   "execution_count": null,
   "metadata": {},
   "outputs": [],
   "source": [
    "# import sksurgeryspeech"
   ]
  },
  {
   "cell_type": "code",
   "execution_count": null,
   "metadata": {},
   "outputs": [],
   "source": [
    "# from sksurgeryspeech.algorithms import first_test_speech_api as speech_api\n",
    "# import time\n",
    "# \"\"\"Speech api demo module\"\"\"\n",
    "\n",
    "\n",
    "# def run_demo():\n",
    "#     #  this is the main call to start the background thread listening,\n",
    "#     #  which also later has to be called within the SmartLiver code\n",
    "\n",
    "#     voice_recognition = speech_api.VoiceRecognitionService()\n",
    "#     voice_recognition.listen()\n",
    "#     for _ in range(500):\n",
    "#         time.sleep(0.1)\n"
   ]
  },
  {
   "cell_type": "code",
   "execution_count": null,
   "metadata": {},
   "outputs": [],
   "source": [
    "# with sr.Microphone() as source:\n",
    "#     r.adjust_for_ambient_noise(source)\n",
    "# begin = r.listen_in_background(sr.Microphone(),callback)\n",
    "# for _ in range(50): time.sleep(0.1)\n",
    "# if begin==\"hi Bob\":\n",
    "#     with sr.Microphone() as source:\n",
    "#         print('Say Something')\n",
    "#         r.adjust_for_ambient_noise(source)\n",
    "#         audio = r.listen(source)\n",
    "#     try:\n",
    "#         text=r.recognize_google(audio)\n",
    "#         print('you said: {}'.format(text))\n",
    "#     except:\n",
    "#         print('translation failed')  \n",
    "# else:\n",
    "#     print(\"no hi bob\")"
   ]
  },
  {
   "cell_type": "code",
   "execution_count": null,
   "metadata": {},
   "outputs": [],
   "source": [
    "# try:\n",
    "#     text=r1.recognize_google(auido)\n",
    "#     print(text)\n",
    "# except sr.UnknownValueError: \n",
    "#         print(\"Google Speech Recognition could not understand audio\")\n",
    "# except sr.RequestError as e: \n",
    "#         print(\"Could not request results from Google Speech Recognition service; {}\".format(e)) "
   ]
  },
  {
   "cell_type": "code",
   "execution_count": null,
   "metadata": {},
   "outputs": [],
   "source": [
    "# chunk_size = 2048\n",
    "# #Initialize the recognizer \n",
    "# r = sr.Recognizer() \n",
    "  \n",
    "# #generate a list of all audio cards/microphones \n",
    "# mic_list = sr.Microphone.list_microphone_names() \n",
    "  \n",
    "# #the following loop aims to set the device ID of the mic that \n",
    "# #we specifically want to use to avoid ambiguity. \n",
    "# for i, microphone_name in enumerate(mic_list): \n",
    "#     if microphone_name == mic_name: \n",
    "#         device_id = i \n",
    "\n",
    "# with sr.Microphone(device_index = device_id, sample_rate = sample_rate,  \n",
    "#                         chunk_size = chunk_size) as source: \n",
    "#     #wait for a second to let the recognizer adjust the  \n",
    "#     #energy threshold based on the surrounding noise level \n",
    "#     r.adjust_for_ambient_noise(source) \n",
    "#     print(\"Say Something\")\n",
    "#     #listens for the user's input \n",
    "#     audio = r.listen(source) \n",
    "          \n",
    "#     try: \n",
    "#         text = r.recognize_google(audio) \n",
    "#         print(\"you said: {}\".format(text))\n",
    "      \n",
    "#     #error occurs when google could not understand what was said \n",
    "      \n",
    "#     except sr.UnknownValueError: \n",
    "#         print(\"Google Speech Recognition could not understand audio\") \n",
    "      \n",
    "#     except sr.RequestError as e: \n",
    "#         print(\"Could not request results from Google Speech Recognition service; {}\".format(e)) \n"
   ]
  },
  {
   "cell_type": "code",
   "execution_count": null,
   "metadata": {},
   "outputs": [],
   "source": [
    "# r = sr.Recognizer()\n",
    "# with sr.Microphone() as source:\n",
    "#     audio = r.listen(source)\n",
    "# try: \n",
    "#     print(\"The audio file contains: \" + r.recognize_google(audio)) \n",
    "# except sr.UnknownValueError: \n",
    "#     print(\"Google Speech Recognition could not understand audio\") \n",
    "# except sr.RequestError as e: \n",
    "#     print(\"Could not request results from Google Speech Recognition service; {}\".format(e)) "
   ]
  },
  {
   "cell_type": "code",
   "execution_count": null,
   "metadata": {},
   "outputs": [],
   "source": []
  }
 ],
 "metadata": {
  "kernelspec": {
   "display_name": "Python 3",
   "language": "python",
   "name": "python3"
  },
  "language_info": {
   "codemirror_mode": {
    "name": "ipython",
    "version": 3
   },
   "file_extension": ".py",
   "mimetype": "text/x-python",
   "name": "python",
   "nbconvert_exporter": "python",
   "pygments_lexer": "ipython3",
   "version": "3.7.3"
  }
 },
 "nbformat": 4,
 "nbformat_minor": 2
}
